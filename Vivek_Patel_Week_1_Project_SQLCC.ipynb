{
  "nbformat": 4,
  "nbformat_minor": 0,
  "metadata": {
    "colab": {
      "provenance": [],
      "collapsed_sections": [
        "Pg-a7-xULZ7m"
      ],
      "include_colab_link": true
    },
    "kernelspec": {
      "name": "python3",
      "display_name": "Python 3"
    },
    "language_info": {
      "name": "python"
    }
  },
  "cells": [
    {
      "cell_type": "markdown",
      "metadata": {
        "id": "view-in-github",
        "colab_type": "text"
      },
      "source": [
        "<a href=\"https://colab.research.google.com/github/vivekptl9/vivekptl9/blob/main/Vivek_Patel_Week_1_Project_SQLCC.ipynb\" target=\"_parent\"><img src=\"https://colab.research.google.com/assets/colab-badge.svg\" alt=\"Open In Colab\"/></a>"
      ]
    },
    {
      "cell_type": "markdown",
      "source": [
        "> 1. DUPLICATE THIS COLAB TO START WORKING ON IT. Using File > Save a copy to drive.\n",
        "> 2. SHARE SETTINGS: In the new notebook, set the sharing settings to \"Anyone with the link\" by clicking \"Share\" on the top right corner.\n",
        "\n",
        "<center>\n",
        "  <img src=https://www.tenants.org.au/sites/default/files/inline-images/Airbnb-Sydney-Harbour-Bridge-web%20copy.jpg width=\"400\" align=\"center\" />\n",
        "</center>\n",
        "<br/>\n",
        "\n",
        "# Week 1: Launching Airbnb Sydney!!\n",
        "\n",
        "Welcome to this first week's project for *SQL Crash Course*!\n",
        "\n",
        "This week's lecture and material on CoRise showed you how to retrieve data directly from a database. For this project we further your understanding of these concepts by delving a bit deeper. However, everything covered in this project you can find related examples in our course material.\n"
      ],
      "metadata": {
        "id": "yVrZZ06OG2LW"
      }
    },
    {
      "cell_type": "markdown",
      "source": [
        "##### Prerequisite configuration\n",
        "Below we install the software required to run this project. Please make sure to **RUN IT** by clicking on the play-button icon and to feel free to ignore the content of these two hidden cells."
      ],
      "metadata": {
        "id": "Pg-a7-xULZ7m"
      }
    },
    {
      "cell_type": "code",
      "execution_count": null,
      "metadata": {
        "id": "gUx2DQloGAzk"
      },
      "outputs": [],
      "source": [
        "%%capture\n",
        "!pip install git+https://github.com/sb2nov/sql-cc.git"
      ]
    },
    {
      "cell_type": "code",
      "source": [
        "import pandas as pd\n",
        "from IPython.display import display, HTML\n",
        "import sqlcc\n",
        "from sqlcc import check\n",
        "\n",
        "# Show all the rows (instead of only a few)\n",
        "pd.set_option(\"display.max_rows\", None)\n",
        "\n",
        "# Set precision to max 2 decimals\n",
        "pd.set_option('precision', 2)\n",
        "\n",
        "# Set CSS properties for th elements in dataframe\n",
        "th_props = [\n",
        "  ('font-size', '16px'),\n",
        "  ('text-align', 'center'),\n",
        "  ('font-weight', 'bold'),\n",
        "  ('background-color', '#fbd44c'),\n",
        "  ('font-color', 'black'),\n",
        "  ]\n",
        "\n",
        "# Set CSS properties for alternating rows in dataframe\n",
        "tr_props = [\n",
        "  ('background-color', '#e0e0e0'),  \n",
        "]\n",
        "\n",
        "# Set CSS properties for td elements in dataframe\n",
        "td_props = [\n",
        "  ('font-size', '14px'),\n",
        "  ('font-color', 'black'),\n",
        "  ]\n",
        "\n",
        "# Set table styles\n",
        "styles = [\n",
        "  dict(selector=\"th\", props=th_props),\n",
        "  dict(selector=\"tr:nth-child(even)\", props=tr_props),\n",
        "  dict(selector=\"td\", props=td_props),\n",
        "  ]\n",
        "\n",
        "\n",
        "def run(sql_query):\n",
        "  df = sqlcc.run(sql_query)\n",
        "  \n",
        "  # Puts the scrollbar next to the DataFrame\n",
        "  display(HTML(\"<div style='max-height: 500px; overflow: auto; width: fit-content; border-style: solid; border-width: 1px; border-color: #0139fe; font-family: GT Planar,Inter,Arial,sans-serif;'>\" +\n",
        "             df.style.set_table_styles(styles).render() +\n",
        "             \"</div>\"))"
      ],
      "metadata": {
        "id": "n-vdL9gWT2rm"
      },
      "execution_count": null,
      "outputs": []
    },
    {
      "cell_type": "markdown",
      "source": [
        "## Introduction\n",
        "\n",
        "As the General manager for the Sydney area at Airbnb, you want to know more about the different listings of houses your team has onboarded. You have access to information regarding the **listings**, **neighbourhoods**, **reviews**, and **calendar**. Each of these have their own separate table.\n",
        "\n",
        "<img src=\"https://corise.com/static/course/sql-crash-course/assets/cl9owz44x005e13a00fb5fhl0/Screen Shot 2022-10-25 at 5.42.23 PM.png\" height=\"450\">\n",
        "\n",
        "## Running and Testing Queries\n",
        "\n",
        "To access the data contained in these four previously mentioned tables, you need to write SQL between the triple quotation marks, like:\n",
        "\n",
        "```\n",
        "query = \"\"\"\n",
        "SELECT * FROM listings\n",
        "\"\"\"\n",
        "run(query)\n",
        "check(q1_1_1 = query)\n",
        "```\n",
        "\n",
        "Then that SQL is pulled through a `run()`-command and a `check()`-command so that you can see the output of the SQL query, and whether you wrote the expected query. This you can see after the output. If you've done it correctly, you'll see **\"Your SQL query is correct!\"**."
      ],
      "metadata": {
        "id": "r3dr-nPLL0KA"
      }
    },
    {
      "cell_type": "code",
      "source": [
        "### Question: q1_1_1\n",
        "query = \"\"\"\n",
        "SELECT * FROM listings\n",
        "\"\"\"\n",
        "\n",
        "run(query)\n",
        "check(q1_1_1 = query)"
      ],
      "metadata": {
        "colab": {
          "base_uri": "https://localhost:8080/",
          "height": 575
        },
        "id": "44YlTkIFUuOD",
        "outputId": "5826eff8-f7f6-40bf-fe00-836e5092f59f"
      },
      "execution_count": null,
      "outputs": [
        {
          "output_type": "display_data",
          "data": {
            "text/plain": [
              "<IPython.core.display.HTML object>"
            ],
            "text/html": [
              "<div style='max-height: 500px; overflow: auto; width: fit-content; border-style: solid; border-width: 1px; border-color: #0139fe; font-family: GT Planar,Inter,Arial,sans-serif;'><style type=\"text/css\">\n",
              "#T_4a8ad_ th {\n",
              "  font-size: 16px;\n",
              "  text-align: center;\n",
              "  font-weight: bold;\n",
              "  background-color: #fbd44c;\n",
              "  font-color: black;\n",
              "}\n",
              "#T_4a8ad_ tr:nth-child(even) {\n",
              "  background-color: #e0e0e0;\n",
              "}\n",
              "#T_4a8ad_ td {\n",
              "  font-size: 14px;\n",
              "  font-color: black;\n",
              "}\n",
              "</style>\n",
              "<table id=\"T_4a8ad_\">\n",
              "  <thead>\n",
              "    <tr>\n",
              "      <th class=\"blank level0\" >&nbsp;</th>\n",
              "      <th class=\"col_heading level0 col0\" >listing_id</th>\n",
              "      <th class=\"col_heading level0 col1\" >listing</th>\n",
              "      <th class=\"col_heading level0 col2\" >host_id</th>\n",
              "      <th class=\"col_heading level0 col3\" >host</th>\n",
              "      <th class=\"col_heading level0 col4\" >neighbourhood_id</th>\n",
              "      <th class=\"col_heading level0 col5\" >room_type</th>\n",
              "      <th class=\"col_heading level0 col6\" >price_in_dollar</th>\n",
              "    </tr>\n",
              "  </thead>\n",
              "  <tbody>\n",
              "    <tr>\n",
              "      <th id=\"T_4a8ad_level0_row0\" class=\"row_heading level0 row0\" >0</th>\n",
              "      <td id=\"T_4a8ad_row0_col0\" class=\"data row0 col0\" >574105250645758899</td>\n",
              "      <td id=\"T_4a8ad_row0_col1\" class=\"data row0 col1\" >Peaceful 1 Bedroom Apartment in Bondi Beach</td>\n",
              "      <td id=\"T_4a8ad_row0_col2\" class=\"data row0 col2\" >109067745</td>\n",
              "      <td id=\"T_4a8ad_row0_col3\" class=\"data row0 col3\" >Andrew</td>\n",
              "      <td id=\"T_4a8ad_row0_col4\" class=\"data row0 col4\" >35</td>\n",
              "      <td id=\"T_4a8ad_row0_col5\" class=\"data row0 col5\" >Entire home/apt</td>\n",
              "      <td id=\"T_4a8ad_row0_col6\" class=\"data row0 col6\" >150.00</td>\n",
              "    </tr>\n",
              "    <tr>\n",
              "      <th id=\"T_4a8ad_level0_row1\" class=\"row_heading level0 row1\" >1</th>\n",
              "      <td id=\"T_4a8ad_row1_col0\" class=\"data row1 col0\" >7874902</td>\n",
              "      <td id=\"T_4a8ad_row1_col1\" class=\"data row1 col1\" >Bondi Vibes - Funky Designer Studio</td>\n",
              "      <td id=\"T_4a8ad_row1_col2\" class=\"data row1 col2\" >41506490</td>\n",
              "      <td id=\"T_4a8ad_row1_col3\" class=\"data row1 col3\" >Alex White</td>\n",
              "      <td id=\"T_4a8ad_row1_col4\" class=\"data row1 col4\" >35</td>\n",
              "      <td id=\"T_4a8ad_row1_col5\" class=\"data row1 col5\" >Entire home/apt</td>\n",
              "      <td id=\"T_4a8ad_row1_col6\" class=\"data row1 col6\" >99.00</td>\n",
              "    </tr>\n",
              "    <tr>\n",
              "      <th id=\"T_4a8ad_level0_row2\" class=\"row_heading level0 row2\" >2</th>\n",
              "      <td id=\"T_4a8ad_row2_col0\" class=\"data row2 col0\" >4575789</td>\n",
              "      <td id=\"T_4a8ad_row2_col1\" class=\"data row2 col1\" >Nice studio close to the beach!</td>\n",
              "      <td id=\"T_4a8ad_row2_col2\" class=\"data row2 col2\" >22980172</td>\n",
              "      <td id=\"T_4a8ad_row2_col3\" class=\"data row2 col3\" >María</td>\n",
              "      <td id=\"T_4a8ad_row2_col4\" class=\"data row2 col4\" >35</td>\n",
              "      <td id=\"T_4a8ad_row2_col5\" class=\"data row2 col5\" >Entire home/apt</td>\n",
              "      <td id=\"T_4a8ad_row2_col6\" class=\"data row2 col6\" >125.00</td>\n",
              "    </tr>\n",
              "    <tr>\n",
              "      <th id=\"T_4a8ad_level0_row3\" class=\"row_heading level0 row3\" >3</th>\n",
              "      <td id=\"T_4a8ad_row3_col0\" class=\"data row3 col0\" >23077495</td>\n",
              "      <td id=\"T_4a8ad_row3_col1\" class=\"data row3 col1\" >Just bring your beach towel</td>\n",
              "      <td id=\"T_4a8ad_row3_col2\" class=\"data row3 col2\" >1305312</td>\n",
              "      <td id=\"T_4a8ad_row3_col3\" class=\"data row3 col3\" >Gladys</td>\n",
              "      <td id=\"T_4a8ad_row3_col4\" class=\"data row3 col4\" >35</td>\n",
              "      <td id=\"T_4a8ad_row3_col5\" class=\"data row3 col5\" >Entire home/apt</td>\n",
              "      <td id=\"T_4a8ad_row3_col6\" class=\"data row3 col6\" >119.00</td>\n",
              "    </tr>\n",
              "    <tr>\n",
              "      <th id=\"T_4a8ad_level0_row4\" class=\"row_heading level0 row4\" >4</th>\n",
              "      <td id=\"T_4a8ad_row4_col0\" class=\"data row4 col0\" >657377039990074158</td>\n",
              "      <td id=\"T_4a8ad_row4_col1\" class=\"data row4 col1\" >Stylish lite 2b+2bth mod secure Beach apt with pkg</td>\n",
              "      <td id=\"T_4a8ad_row4_col2\" class=\"data row4 col2\" >285488167</td>\n",
              "      <td id=\"T_4a8ad_row4_col3\" class=\"data row4 col3\" >Rick</td>\n",
              "      <td id=\"T_4a8ad_row4_col4\" class=\"data row4 col4\" >35</td>\n",
              "      <td id=\"T_4a8ad_row4_col5\" class=\"data row4 col5\" >Entire home/apt</td>\n",
              "      <td id=\"T_4a8ad_row4_col6\" class=\"data row4 col6\" >408.00</td>\n",
              "    </tr>\n",
              "    <tr>\n",
              "      <th id=\"T_4a8ad_level0_row5\" class=\"row_heading level0 row5\" >5</th>\n",
              "      <td id=\"T_4a8ad_row5_col0\" class=\"data row5 col0\" >53798702</td>\n",
              "      <td id=\"T_4a8ad_row5_col1\" class=\"data row5 col1\" >Spacious and clean 2-bedroom apartment in Bondi</td>\n",
              "      <td id=\"T_4a8ad_row5_col2\" class=\"data row5 col2\" >244604436</td>\n",
              "      <td id=\"T_4a8ad_row5_col3\" class=\"data row5 col3\" >Tiina</td>\n",
              "      <td id=\"T_4a8ad_row5_col4\" class=\"data row5 col4\" >35</td>\n",
              "      <td id=\"T_4a8ad_row5_col5\" class=\"data row5 col5\" >Entire home/apt</td>\n",
              "      <td id=\"T_4a8ad_row5_col6\" class=\"data row5 col6\" >96.00</td>\n",
              "    </tr>\n",
              "    <tr>\n",
              "      <th id=\"T_4a8ad_level0_row6\" class=\"row_heading level0 row6\" >6</th>\n",
              "      <td id=\"T_4a8ad_row6_col0\" class=\"data row6 col0\" >4344478</td>\n",
              "      <td id=\"T_4a8ad_row6_col1\" class=\"data row6 col1\" >Bondi Beach Apartment 50m to beach</td>\n",
              "      <td id=\"T_4a8ad_row6_col2\" class=\"data row6 col2\" >22553304</td>\n",
              "      <td id=\"T_4a8ad_row6_col3\" class=\"data row6 col3\" >Stephen</td>\n",
              "      <td id=\"T_4a8ad_row6_col4\" class=\"data row6 col4\" >35</td>\n",
              "      <td id=\"T_4a8ad_row6_col5\" class=\"data row6 col5\" >Entire home/apt</td>\n",
              "      <td id=\"T_4a8ad_row6_col6\" class=\"data row6 col6\" >101.00</td>\n",
              "    </tr>\n",
              "    <tr>\n",
              "      <th id=\"T_4a8ad_level0_row7\" class=\"row_heading level0 row7\" >7</th>\n",
              "      <td id=\"T_4a8ad_row7_col0\" class=\"data row7 col0\" >48699778</td>\n",
              "      <td id=\"T_4a8ad_row7_col1\" class=\"data row7 col1\" >Calm & Coastal: Bronte Beach Studio with Parking</td>\n",
              "      <td id=\"T_4a8ad_row7_col2\" class=\"data row7 col2\" >185783910</td>\n",
              "      <td id=\"T_4a8ad_row7_col3\" class=\"data row7 col3\" >Annie</td>\n",
              "      <td id=\"T_4a8ad_row7_col4\" class=\"data row7 col4\" >35</td>\n",
              "      <td id=\"T_4a8ad_row7_col5\" class=\"data row7 col5\" >Entire home/apt</td>\n",
              "      <td id=\"T_4a8ad_row7_col6\" class=\"data row7 col6\" >159.00</td>\n",
              "    </tr>\n",
              "    <tr>\n",
              "      <th id=\"T_4a8ad_level0_row8\" class=\"row_heading level0 row8\" >8</th>\n",
              "      <td id=\"T_4a8ad_row8_col0\" class=\"data row8 col0\" >12072720</td>\n",
              "      <td id=\"T_4a8ad_row8_col1\" class=\"data row8 col1\" >Minutes to Bronte beach Ocean views</td>\n",
              "      <td id=\"T_4a8ad_row8_col2\" class=\"data row8 col2\" >11745874</td>\n",
              "      <td id=\"T_4a8ad_row8_col3\" class=\"data row8 col3\" >Angelika</td>\n",
              "      <td id=\"T_4a8ad_row8_col4\" class=\"data row8 col4\" >35</td>\n",
              "      <td id=\"T_4a8ad_row8_col5\" class=\"data row8 col5\" >Entire home/apt</td>\n",
              "      <td id=\"T_4a8ad_row8_col6\" class=\"data row8 col6\" >210.00</td>\n",
              "    </tr>\n",
              "    <tr>\n",
              "      <th id=\"T_4a8ad_level0_row9\" class=\"row_heading level0 row9\" >9</th>\n",
              "      <td id=\"T_4a8ad_row9_col0\" class=\"data row9 col0\" >20255786</td>\n",
              "      <td id=\"T_4a8ad_row9_col1\" class=\"data row9 col1\" >Terrace in heart of Bondi Junction</td>\n",
              "      <td id=\"T_4a8ad_row9_col2\" class=\"data row9 col2\" >18901875</td>\n",
              "      <td id=\"T_4a8ad_row9_col3\" class=\"data row9 col3\" >Astrid And Nick</td>\n",
              "      <td id=\"T_4a8ad_row9_col4\" class=\"data row9 col4\" >35</td>\n",
              "      <td id=\"T_4a8ad_row9_col5\" class=\"data row9 col5\" >Entire home/apt</td>\n",
              "      <td id=\"T_4a8ad_row9_col6\" class=\"data row9 col6\" >850.00</td>\n",
              "    </tr>\n",
              "    <tr>\n",
              "      <th id=\"T_4a8ad_level0_row10\" class=\"row_heading level0 row10\" >10</th>\n",
              "      <td id=\"T_4a8ad_row10_col0\" class=\"data row10 col0\" >22973428</td>\n",
              "      <td id=\"T_4a8ad_row10_col1\" class=\"data row10 col1\" >Bright stylish home in a great location</td>\n",
              "      <td id=\"T_4a8ad_row10_col2\" class=\"data row10 col2\" >2537559</td>\n",
              "      <td id=\"T_4a8ad_row10_col3\" class=\"data row10 col3\" >Sian</td>\n",
              "      <td id=\"T_4a8ad_row10_col4\" class=\"data row10 col4\" >35</td>\n",
              "      <td id=\"T_4a8ad_row10_col5\" class=\"data row10 col5\" >Entire home/apt</td>\n",
              "      <td id=\"T_4a8ad_row10_col6\" class=\"data row10 col6\" >120.00</td>\n",
              "    </tr>\n",
              "    <tr>\n",
              "      <th id=\"T_4a8ad_level0_row11\" class=\"row_heading level0 row11\" >11</th>\n",
              "      <td id=\"T_4a8ad_row11_col0\" class=\"data row11 col0\" >22199388</td>\n",
              "      <td id=\"T_4a8ad_row11_col1\" class=\"data row11 col1\" >Double room available in open and airy Bronte home</td>\n",
              "      <td id=\"T_4a8ad_row11_col2\" class=\"data row11 col2\" >14228436</td>\n",
              "      <td id=\"T_4a8ad_row11_col3\" class=\"data row11 col3\" >Audrey</td>\n",
              "      <td id=\"T_4a8ad_row11_col4\" class=\"data row11 col4\" >35</td>\n",
              "      <td id=\"T_4a8ad_row11_col5\" class=\"data row11 col5\" >Private room</td>\n",
              "      <td id=\"T_4a8ad_row11_col6\" class=\"data row11 col6\" >43.00</td>\n",
              "    </tr>\n",
              "    <tr>\n",
              "      <th id=\"T_4a8ad_level0_row12\" class=\"row_heading level0 row12\" >12</th>\n",
              "      <td id=\"T_4a8ad_row12_col0\" class=\"data row12 col0\" >705145817561041469</td>\n",
              "      <td id=\"T_4a8ad_row12_col1\" class=\"data row12 col1\" >Bondi Beachy - 2 bedroom in the heart of Bondi!</td>\n",
              "      <td id=\"T_4a8ad_row12_col2\" class=\"data row12 col2\" >113874</td>\n",
              "      <td id=\"T_4a8ad_row12_col3\" class=\"data row12 col3\" >Bondi Beach Holiday Homes</td>\n",
              "      <td id=\"T_4a8ad_row12_col4\" class=\"data row12 col4\" >35</td>\n",
              "      <td id=\"T_4a8ad_row12_col5\" class=\"data row12 col5\" >Entire home/apt</td>\n",
              "      <td id=\"T_4a8ad_row12_col6\" class=\"data row12 col6\" >250.00</td>\n",
              "    </tr>\n",
              "    <tr>\n",
              "      <th id=\"T_4a8ad_level0_row13\" class=\"row_heading level0 row13\" >13</th>\n",
              "      <td id=\"T_4a8ad_row13_col0\" class=\"data row13 col0\" >8925052</td>\n",
              "      <td id=\"T_4a8ad_row13_col1\" class=\"data row13 col1\" >House in Central Sydney</td>\n",
              "      <td id=\"T_4a8ad_row13_col2\" class=\"data row13 col2\" >43312353</td>\n",
              "      <td id=\"T_4a8ad_row13_col3\" class=\"data row13 col3\" >Barry</td>\n",
              "      <td id=\"T_4a8ad_row13_col4\" class=\"data row13 col4\" >32</td>\n",
              "      <td id=\"T_4a8ad_row13_col5\" class=\"data row13 col5\" >Entire home/apt</td>\n",
              "      <td id=\"T_4a8ad_row13_col6\" class=\"data row13 col6\" >120.00</td>\n",
              "    </tr>\n",
              "    <tr>\n",
              "      <th id=\"T_4a8ad_level0_row14\" class=\"row_heading level0 row14\" >14</th>\n",
              "      <td id=\"T_4a8ad_row14_col0\" class=\"data row14 col0\" >11970913</td>\n",
              "      <td id=\"T_4a8ad_row14_col1\" class=\"data row14 col1\" >Central and Sunny Room</td>\n",
              "      <td id=\"T_4a8ad_row14_col2\" class=\"data row14 col2\" >37772146</td>\n",
              "      <td id=\"T_4a8ad_row14_col3\" class=\"data row14 col3\" >Hannah</td>\n",
              "      <td id=\"T_4a8ad_row14_col4\" class=\"data row14 col4\" >32</td>\n",
              "      <td id=\"T_4a8ad_row14_col5\" class=\"data row14 col5\" >Private room</td>\n",
              "      <td id=\"T_4a8ad_row14_col6\" class=\"data row14 col6\" >58.00</td>\n",
              "    </tr>\n",
              "    <tr>\n",
              "      <th id=\"T_4a8ad_level0_row15\" class=\"row_heading level0 row15\" >15</th>\n",
              "      <td id=\"T_4a8ad_row15_col0\" class=\"data row15 col0\" >672903848532202580</td>\n",
              "      <td id=\"T_4a8ad_row15_col1\" class=\"data row15 col1\" >Central&Spacious 3Bed Apt at Zetland | MHS</td>\n",
              "      <td id=\"T_4a8ad_row15_col2\" class=\"data row15 col2\" >185126628</td>\n",
              "      <td id=\"T_4a8ad_row15_col3\" class=\"data row15 col3\" >Evan</td>\n",
              "      <td id=\"T_4a8ad_row15_col4\" class=\"data row15 col4\" >32</td>\n",
              "      <td id=\"T_4a8ad_row15_col5\" class=\"data row15 col5\" >Entire home/apt</td>\n",
              "      <td id=\"T_4a8ad_row15_col6\" class=\"data row15 col6\" >320.00</td>\n",
              "    </tr>\n",
              "    <tr>\n",
              "      <th id=\"T_4a8ad_level0_row16\" class=\"row_heading level0 row16\" >16</th>\n",
              "      <td id=\"T_4a8ad_row16_col0\" class=\"data row16 col0\" >22234562</td>\n",
              "      <td id=\"T_4a8ad_row16_col1\" class=\"data row16 col1\" >Bayside Studio close to City with amazing view</td>\n",
              "      <td id=\"T_4a8ad_row16_col2\" class=\"data row16 col2\" >43502287</td>\n",
              "      <td id=\"T_4a8ad_row16_col3\" class=\"data row16 col3\" >Jackie</td>\n",
              "      <td id=\"T_4a8ad_row16_col4\" class=\"data row16 col4\" >32</td>\n",
              "      <td id=\"T_4a8ad_row16_col5\" class=\"data row16 col5\" >Entire home/apt</td>\n",
              "      <td id=\"T_4a8ad_row16_col6\" class=\"data row16 col6\" >80.00</td>\n",
              "    </tr>\n",
              "    <tr>\n",
              "      <th id=\"T_4a8ad_level0_row17\" class=\"row_heading level0 row17\" >17</th>\n",
              "      <td id=\"T_4a8ad_row17_col0\" class=\"data row17 col0\" >16411678</td>\n",
              "      <td id=\"T_4a8ad_row17_col1\" class=\"data row17 col1\" >Centrally located, spacious, cute, sunny studio!</td>\n",
              "      <td id=\"T_4a8ad_row17_col2\" class=\"data row17 col2\" >1043937</td>\n",
              "      <td id=\"T_4a8ad_row17_col3\" class=\"data row17 col3\" >Alzbeta</td>\n",
              "      <td id=\"T_4a8ad_row17_col4\" class=\"data row17 col4\" >32</td>\n",
              "      <td id=\"T_4a8ad_row17_col5\" class=\"data row17 col5\" >Entire home/apt</td>\n",
              "      <td id=\"T_4a8ad_row17_col6\" class=\"data row17 col6\" >120.00</td>\n",
              "    </tr>\n",
              "    <tr>\n",
              "      <th id=\"T_4a8ad_level0_row18\" class=\"row_heading level0 row18\" >18</th>\n",
              "      <td id=\"T_4a8ad_row18_col0\" class=\"data row18 col0\" >41222429</td>\n",
              "      <td id=\"T_4a8ad_row18_col1\" class=\"data row18 col1\" >悉尼情人港、唐人街旁新房公寓，近一切设施</td>\n",
              "      <td id=\"T_4a8ad_row18_col2\" class=\"data row18 col2\" >120290790</td>\n",
              "      <td id=\"T_4a8ad_row18_col3\" class=\"data row18 col3\" >Shu</td>\n",
              "      <td id=\"T_4a8ad_row18_col4\" class=\"data row18 col4\" >32</td>\n",
              "      <td id=\"T_4a8ad_row18_col5\" class=\"data row18 col5\" >Entire home/apt</td>\n",
              "      <td id=\"T_4a8ad_row18_col6\" class=\"data row18 col6\" >250.00</td>\n",
              "    </tr>\n",
              "    <tr>\n",
              "      <th id=\"T_4a8ad_level0_row19\" class=\"row_heading level0 row19\" >19</th>\n",
              "      <td id=\"T_4a8ad_row19_col0\" class=\"data row19 col0\" >33757329</td>\n",
              "      <td id=\"T_4a8ad_row19_col1\" class=\"data row19 col1\" >Double Room w. Shared Bathroom</td>\n",
              "      <td id=\"T_4a8ad_row19_col2\" class=\"data row19 col2\" >254427140</td>\n",
              "      <td id=\"T_4a8ad_row19_col3\" class=\"data row19 col3\" >The Jensen Potts Point</td>\n",
              "      <td id=\"T_4a8ad_row19_col4\" class=\"data row19 col4\" >32</td>\n",
              "      <td id=\"T_4a8ad_row19_col5\" class=\"data row19 col5\" >Hotel room</td>\n",
              "      <td id=\"T_4a8ad_row19_col6\" class=\"data row19 col6\" >178.00</td>\n",
              "    </tr>\n",
              "    <tr>\n",
              "      <th id=\"T_4a8ad_level0_row20\" class=\"row_heading level0 row20\" >20</th>\n",
              "      <td id=\"T_4a8ad_row20_col0\" class=\"data row20 col0\" >45917438</td>\n",
              "      <td id=\"T_4a8ad_row20_col1\" class=\"data row20 col1\" >MARVELOUS LOCATION cool city studio, AC & balcony</td>\n",
              "      <td id=\"T_4a8ad_row20_col2\" class=\"data row20 col2\" >215158027</td>\n",
              "      <td id=\"T_4a8ad_row20_col3\" class=\"data row20 col3\" >Peter & Stephanie</td>\n",
              "      <td id=\"T_4a8ad_row20_col4\" class=\"data row20 col4\" >32</td>\n",
              "      <td id=\"T_4a8ad_row20_col5\" class=\"data row20 col5\" >Entire home/apt</td>\n",
              "      <td id=\"T_4a8ad_row20_col6\" class=\"data row20 col6\" >162.00</td>\n",
              "    </tr>\n",
              "    <tr>\n",
              "      <th id=\"T_4a8ad_level0_row21\" class=\"row_heading level0 row21\" >21</th>\n",
              "      <td id=\"T_4a8ad_row21_col0\" class=\"data row21 col0\" >9354832</td>\n",
              "      <td id=\"T_4a8ad_row21_col1\" class=\"data row21 col1\" >Urban Oasis in Sydney CBD!</td>\n",
              "      <td id=\"T_4a8ad_row21_col2\" class=\"data row21 col2\" >40724867</td>\n",
              "      <td id=\"T_4a8ad_row21_col3\" class=\"data row21 col3\" >Alaura</td>\n",
              "      <td id=\"T_4a8ad_row21_col4\" class=\"data row21 col4\" >32</td>\n",
              "      <td id=\"T_4a8ad_row21_col5\" class=\"data row21 col5\" >Entire home/apt</td>\n",
              "      <td id=\"T_4a8ad_row21_col6\" class=\"data row21 col6\" >222.00</td>\n",
              "    </tr>\n",
              "    <tr>\n",
              "      <th id=\"T_4a8ad_level0_row22\" class=\"row_heading level0 row22\" >22</th>\n",
              "      <td id=\"T_4a8ad_row22_col0\" class=\"data row22 col0\" >4632356</td>\n",
              "      <td id=\"T_4a8ad_row22_col1\" class=\"data row22 col1\" >Leafy Sydney City Apartment</td>\n",
              "      <td id=\"T_4a8ad_row22_col2\" class=\"data row22 col2\" >23988683</td>\n",
              "      <td id=\"T_4a8ad_row22_col3\" class=\"data row22 col3\" >Monica</td>\n",
              "      <td id=\"T_4a8ad_row22_col4\" class=\"data row22 col4\" >32</td>\n",
              "      <td id=\"T_4a8ad_row22_col5\" class=\"data row22 col5\" >Entire home/apt</td>\n",
              "      <td id=\"T_4a8ad_row22_col6\" class=\"data row22 col6\" >100.00</td>\n",
              "    </tr>\n",
              "    <tr>\n",
              "      <th id=\"T_4a8ad_level0_row23\" class=\"row_heading level0 row23\" >23</th>\n",
              "      <td id=\"T_4a8ad_row23_col0\" class=\"data row23 col0\" >9012529</td>\n",
              "      <td id=\"T_4a8ad_row23_col1\" class=\"data row23 col1\" >Balgowlah Beach House</td>\n",
              "      <td id=\"T_4a8ad_row23_col2\" class=\"data row23 col2\" >22227415</td>\n",
              "      <td id=\"T_4a8ad_row23_col3\" class=\"data row23 col3\" >Marnie</td>\n",
              "      <td id=\"T_4a8ad_row23_col4\" class=\"data row23 col4\" >20</td>\n",
              "      <td id=\"T_4a8ad_row23_col5\" class=\"data row23 col5\" >Entire home/apt</td>\n",
              "      <td id=\"T_4a8ad_row23_col6\" class=\"data row23 col6\" >947.00</td>\n",
              "    </tr>\n",
              "    <tr>\n",
              "      <th id=\"T_4a8ad_level0_row24\" class=\"row_heading level0 row24\" >24</th>\n",
              "      <td id=\"T_4a8ad_row24_col0\" class=\"data row24 col0\" >21443493</td>\n",
              "      <td id=\"T_4a8ad_row24_col1\" class=\"data row24 col1\" >Perfect beachside getaway footsteps to the beach.</td>\n",
              "      <td id=\"T_4a8ad_row24_col2\" class=\"data row24 col2\" >88281040</td>\n",
              "      <td id=\"T_4a8ad_row24_col3\" class=\"data row24 col3\" >Mel</td>\n",
              "      <td id=\"T_4a8ad_row24_col4\" class=\"data row24 col4\" >20</td>\n",
              "      <td id=\"T_4a8ad_row24_col5\" class=\"data row24 col5\" >Entire home/apt</td>\n",
              "      <td id=\"T_4a8ad_row24_col6\" class=\"data row24 col6\" >427.00</td>\n",
              "    </tr>\n",
              "    <tr>\n",
              "      <th id=\"T_4a8ad_level0_row25\" class=\"row_heading level0 row25\" >25</th>\n",
              "      <td id=\"T_4a8ad_row25_col0\" class=\"data row25 col0\" >10729688</td>\n",
              "      <td id=\"T_4a8ad_row25_col1\" class=\"data row25 col1\" >Manly Beach House</td>\n",
              "      <td id=\"T_4a8ad_row25_col2\" class=\"data row25 col2\" >13657320</td>\n",
              "      <td id=\"T_4a8ad_row25_col3\" class=\"data row25 col3\" >Rebecca</td>\n",
              "      <td id=\"T_4a8ad_row25_col4\" class=\"data row25 col4\" >20</td>\n",
              "      <td id=\"T_4a8ad_row25_col5\" class=\"data row25 col5\" >Entire home/apt</td>\n",
              "      <td id=\"T_4a8ad_row25_col6\" class=\"data row25 col6\" >557.00</td>\n",
              "    </tr>\n",
              "    <tr>\n",
              "      <th id=\"T_4a8ad_level0_row26\" class=\"row_heading level0 row26\" >26</th>\n",
              "      <td id=\"T_4a8ad_row26_col0\" class=\"data row26 col0\" >20628052</td>\n",
              "      <td id=\"T_4a8ad_row26_col1\" class=\"data row26 col1\" >Stylish Garden Apartment near Manly beach</td>\n",
              "      <td id=\"T_4a8ad_row26_col2\" class=\"data row26 col2\" >3444681</td>\n",
              "      <td id=\"T_4a8ad_row26_col3\" class=\"data row26 col3\" >Claire</td>\n",
              "      <td id=\"T_4a8ad_row26_col4\" class=\"data row26 col4\" >20</td>\n",
              "      <td id=\"T_4a8ad_row26_col5\" class=\"data row26 col5\" >Entire home/apt</td>\n",
              "      <td id=\"T_4a8ad_row26_col6\" class=\"data row26 col6\" >145.00</td>\n",
              "    </tr>\n",
              "    <tr>\n",
              "      <th id=\"T_4a8ad_level0_row27\" class=\"row_heading level0 row27\" >27</th>\n",
              "      <td id=\"T_4a8ad_row27_col0\" class=\"data row27 col0\" >54362721</td>\n",
              "      <td id=\"T_4a8ad_row27_col1\" class=\"data row27 col1\" >Sun-filled 2 bedroom unit, a stroll to the beach</td>\n",
              "      <td id=\"T_4a8ad_row27_col2\" class=\"data row27 col2\" >51257703</td>\n",
              "      <td id=\"T_4a8ad_row27_col3\" class=\"data row27 col3\" >Barry</td>\n",
              "      <td id=\"T_4a8ad_row27_col4\" class=\"data row27 col4\" >20</td>\n",
              "      <td id=\"T_4a8ad_row27_col5\" class=\"data row27 col5\" >Entire home/apt</td>\n",
              "      <td id=\"T_4a8ad_row27_col6\" class=\"data row27 col6\" >321.00</td>\n",
              "    </tr>\n",
              "    <tr>\n",
              "      <th id=\"T_4a8ad_level0_row28\" class=\"row_heading level0 row28\" >28</th>\n",
              "      <td id=\"T_4a8ad_row28_col0\" class=\"data row28 col0\" >52704433</td>\n",
              "      <td id=\"T_4a8ad_row28_col1\" class=\"data row28 col1\" >Space is everything</td>\n",
              "      <td id=\"T_4a8ad_row28_col2\" class=\"data row28 col2\" >54924558</td>\n",
              "      <td id=\"T_4a8ad_row28_col3\" class=\"data row28 col3\" >Hudson</td>\n",
              "      <td id=\"T_4a8ad_row28_col4\" class=\"data row28 col4\" >8</td>\n",
              "      <td id=\"T_4a8ad_row28_col5\" class=\"data row28 col5\" >Entire home/apt</td>\n",
              "      <td id=\"T_4a8ad_row28_col6\" class=\"data row28 col6\" >201.00</td>\n",
              "    </tr>\n",
              "    <tr>\n",
              "      <th id=\"T_4a8ad_level0_row29\" class=\"row_heading level0 row29\" >29</th>\n",
              "      <td id=\"T_4a8ad_row29_col0\" class=\"data row29 col0\" >706030270420864343</td>\n",
              "      <td id=\"T_4a8ad_row29_col1\" class=\"data row29 col1\" >Convenient 2 bedroom Rhodes apartment</td>\n",
              "      <td id=\"T_4a8ad_row29_col2\" class=\"data row29 col2\" >465696336</td>\n",
              "      <td id=\"T_4a8ad_row29_col3\" class=\"data row29 col3\" >Bin</td>\n",
              "      <td id=\"T_4a8ad_row29_col4\" class=\"data row29 col4\" >8</td>\n",
              "      <td id=\"T_4a8ad_row29_col5\" class=\"data row29 col5\" >Entire home/apt</td>\n",
              "      <td id=\"T_4a8ad_row29_col6\" class=\"data row29 col6\" >144.00</td>\n",
              "    </tr>\n",
              "    <tr>\n",
              "      <th id=\"T_4a8ad_level0_row30\" class=\"row_heading level0 row30\" >30</th>\n",
              "      <td id=\"T_4a8ad_row30_col0\" class=\"data row30 col0\" >18999835</td>\n",
              "      <td id=\"T_4a8ad_row30_col1\" class=\"data row30 col1\" >3 Bedroom Apartment with Kitchen & Balcony</td>\n",
              "      <td id=\"T_4a8ad_row30_col2\" class=\"data row30 col2\" >108189888</td>\n",
              "      <td id=\"T_4a8ad_row30_col3\" class=\"data row30 col3\" >Twin Towers Inn</td>\n",
              "      <td id=\"T_4a8ad_row30_col4\" class=\"data row30 col4\" >17</td>\n",
              "      <td id=\"T_4a8ad_row30_col5\" class=\"data row30 col5\" >Private room</td>\n",
              "      <td id=\"T_4a8ad_row30_col6\" class=\"data row30 col6\" >300.00</td>\n",
              "    </tr>\n",
              "    <tr>\n",
              "      <th id=\"T_4a8ad_level0_row31\" class=\"row_heading level0 row31\" >31</th>\n",
              "      <td id=\"T_4a8ad_row31_col0\" class=\"data row31 col0\" >10103846</td>\n",
              "      <td id=\"T_4a8ad_row31_col1\" class=\"data row31 col1\" >Clifton Road Clovelly</td>\n",
              "      <td id=\"T_4a8ad_row31_col2\" class=\"data row31 col2\" >51850460</td>\n",
              "      <td id=\"T_4a8ad_row31_col3\" class=\"data row31 col3\" >Craig</td>\n",
              "      <td id=\"T_4a8ad_row31_col4\" class=\"data row31 col4\" >27</td>\n",
              "      <td id=\"T_4a8ad_row31_col5\" class=\"data row31 col5\" >Entire home/apt</td>\n",
              "      <td id=\"T_4a8ad_row31_col6\" class=\"data row31 col6\" >400.00</td>\n",
              "    </tr>\n",
              "    <tr>\n",
              "      <th id=\"T_4a8ad_level0_row32\" class=\"row_heading level0 row32\" >32</th>\n",
              "      <td id=\"T_4a8ad_row32_col0\" class=\"data row32 col0\" >7846383</td>\n",
              "      <td id=\"T_4a8ad_row32_col1\" class=\"data row32 col1\" >Modern Randwick apartment</td>\n",
              "      <td id=\"T_4a8ad_row32_col2\" class=\"data row32 col2\" >40070341</td>\n",
              "      <td id=\"T_4a8ad_row32_col3\" class=\"data row32 col3\" >Marcela</td>\n",
              "      <td id=\"T_4a8ad_row32_col4\" class=\"data row32 col4\" >27</td>\n",
              "      <td id=\"T_4a8ad_row32_col5\" class=\"data row32 col5\" >Private room</td>\n",
              "      <td id=\"T_4a8ad_row32_col6\" class=\"data row32 col6\" >110.00</td>\n",
              "    </tr>\n",
              "    <tr>\n",
              "      <th id=\"T_4a8ad_level0_row33\" class=\"row_heading level0 row33\" >33</th>\n",
              "      <td id=\"T_4a8ad_row33_col0\" class=\"data row33 col0\" >19164401</td>\n",
              "      <td id=\"T_4a8ad_row33_col1\" class=\"data row33 col1\" >Big room close to CBD with backyard & BBQ</td>\n",
              "      <td id=\"T_4a8ad_row33_col2\" class=\"data row33 col2\" >61907880</td>\n",
              "      <td id=\"T_4a8ad_row33_col3\" class=\"data row33 col3\" >Malin</td>\n",
              "      <td id=\"T_4a8ad_row33_col4\" class=\"data row33 col4\" >27</td>\n",
              "      <td id=\"T_4a8ad_row33_col5\" class=\"data row33 col5\" >Private room</td>\n",
              "      <td id=\"T_4a8ad_row33_col6\" class=\"data row33 col6\" >30.00</td>\n",
              "    </tr>\n",
              "    <tr>\n",
              "      <th id=\"T_4a8ad_level0_row34\" class=\"row_heading level0 row34\" >34</th>\n",
              "      <td id=\"T_4a8ad_row34_col0\" class=\"data row34 col0\" >30801418</td>\n",
              "      <td id=\"T_4a8ad_row34_col1\" class=\"data row34 col1\" >Beautiful 2 bedroom unit - Kensington</td>\n",
              "      <td id=\"T_4a8ad_row34_col2\" class=\"data row34 col2\" >16006077</td>\n",
              "      <td id=\"T_4a8ad_row34_col3\" class=\"data row34 col3\" >Nathalia</td>\n",
              "      <td id=\"T_4a8ad_row34_col4\" class=\"data row34 col4\" >27</td>\n",
              "      <td id=\"T_4a8ad_row34_col5\" class=\"data row34 col5\" >Private room</td>\n",
              "      <td id=\"T_4a8ad_row34_col6\" class=\"data row34 col6\" >89.00</td>\n",
              "    </tr>\n",
              "    <tr>\n",
              "      <th id=\"T_4a8ad_level0_row35\" class=\"row_heading level0 row35\" >35</th>\n",
              "      <td id=\"T_4a8ad_row35_col0\" class=\"data row35 col0\" >582106097096200272</td>\n",
              "      <td id=\"T_4a8ad_row35_col1\" class=\"data row35 col1\" >Convenient home with high end finish at MQ Park</td>\n",
              "      <td id=\"T_4a8ad_row35_col2\" class=\"data row35 col2\" >301753450</td>\n",
              "      <td id=\"T_4a8ad_row35_col3\" class=\"data row35 col3\" >AirPillows</td>\n",
              "      <td id=\"T_4a8ad_row35_col4\" class=\"data row35 col4\" >29</td>\n",
              "      <td id=\"T_4a8ad_row35_col5\" class=\"data row35 col5\" >Entire home/apt</td>\n",
              "      <td id=\"T_4a8ad_row35_col6\" class=\"data row35 col6\" >195.00</td>\n",
              "    </tr>\n",
              "    <tr>\n",
              "      <th id=\"T_4a8ad_level0_row36\" class=\"row_heading level0 row36\" >36</th>\n",
              "      <td id=\"T_4a8ad_row36_col0\" class=\"data row36 col0\" >50118577</td>\n",
              "      <td id=\"T_4a8ad_row36_col1\" class=\"data row36 col1\" >In the Middle of Sydney with Beautiful River View</td>\n",
              "      <td id=\"T_4a8ad_row36_col2\" class=\"data row36 col2\" >169795871</td>\n",
              "      <td id=\"T_4a8ad_row36_col3\" class=\"data row36 col3\" >Yihan</td>\n",
              "      <td id=\"T_4a8ad_row36_col4\" class=\"data row36 col4\" >29</td>\n",
              "      <td id=\"T_4a8ad_row36_col5\" class=\"data row36 col5\" >Entire home/apt</td>\n",
              "      <td id=\"T_4a8ad_row36_col6\" class=\"data row36 col6\" >204.00</td>\n",
              "    </tr>\n",
              "    <tr>\n",
              "      <th id=\"T_4a8ad_level0_row37\" class=\"row_heading level0 row37\" >37</th>\n",
              "      <td id=\"T_4a8ad_row37_col0\" class=\"data row37 col0\" >697876946371921032</td>\n",
              "      <td id=\"T_4a8ad_row37_col1\" class=\"data row37 col1\" >Skyline 2Bedroom+1Study room Apt&Free park&Pet ok</td>\n",
              "      <td id=\"T_4a8ad_row37_col2\" class=\"data row37 col2\" >457666854</td>\n",
              "      <td id=\"T_4a8ad_row37_col3\" class=\"data row37 col3\" >Zeam</td>\n",
              "      <td id=\"T_4a8ad_row37_col4\" class=\"data row37 col4\" >29</td>\n",
              "      <td id=\"T_4a8ad_row37_col5\" class=\"data row37 col5\" >Entire home/apt</td>\n",
              "      <td id=\"T_4a8ad_row37_col6\" class=\"data row37 col6\" >228.00</td>\n",
              "    </tr>\n",
              "    <tr>\n",
              "      <th id=\"T_4a8ad_level0_row38\" class=\"row_heading level0 row38\" >38</th>\n",
              "      <td id=\"T_4a8ad_row38_col0\" class=\"data row38 col0\" >46434467</td>\n",
              "      <td id=\"T_4a8ad_row38_col1\" class=\"data row38 col1\" >Tranquil place in great location</td>\n",
              "      <td id=\"T_4a8ad_row38_col2\" class=\"data row38 col2\" >1739066</td>\n",
              "      <td id=\"T_4a8ad_row38_col3\" class=\"data row38 col3\" >Anna</td>\n",
              "      <td id=\"T_4a8ad_row38_col4\" class=\"data row38 col4\" >18</td>\n",
              "      <td id=\"T_4a8ad_row38_col5\" class=\"data row38 col5\" >Entire home/apt</td>\n",
              "      <td id=\"T_4a8ad_row38_col6\" class=\"data row38 col6\" >250.00</td>\n",
              "    </tr>\n",
              "    <tr>\n",
              "      <th id=\"T_4a8ad_level0_row39\" class=\"row_heading level0 row39\" >39</th>\n",
              "      <td id=\"T_4a8ad_row39_col0\" class=\"data row39 col0\" >7581665</td>\n",
              "      <td id=\"T_4a8ad_row39_col1\" class=\"data row39 col1\" >Grand, historic terrace on park</td>\n",
              "      <td id=\"T_4a8ad_row39_col2\" class=\"data row39 col2\" >2847618</td>\n",
              "      <td id=\"T_4a8ad_row39_col3\" class=\"data row39 col3\" >Maggie</td>\n",
              "      <td id=\"T_4a8ad_row39_col4\" class=\"data row39 col4\" >18</td>\n",
              "      <td id=\"T_4a8ad_row39_col5\" class=\"data row39 col5\" >Entire home/apt</td>\n",
              "      <td id=\"T_4a8ad_row39_col6\" class=\"data row39 col6\" >300.00</td>\n",
              "    </tr>\n",
              "    <tr>\n",
              "      <th id=\"T_4a8ad_level0_row40\" class=\"row_heading level0 row40\" >40</th>\n",
              "      <td id=\"T_4a8ad_row40_col0\" class=\"data row40 col0\" >34027782</td>\n",
              "      <td id=\"T_4a8ad_row40_col1\" class=\"data row40 col1\" >Luxurious Cozy Bedroom, Explore @Olympic Park</td>\n",
              "      <td id=\"T_4a8ad_row40_col2\" class=\"data row40 col2\" >163419570</td>\n",
              "      <td id=\"T_4a8ad_row40_col3\" class=\"data row40 col3\" >Zach</td>\n",
              "      <td id=\"T_4a8ad_row40_col4\" class=\"data row40 col4\" >1</td>\n",
              "      <td id=\"T_4a8ad_row40_col5\" class=\"data row40 col5\" >Private room</td>\n",
              "      <td id=\"T_4a8ad_row40_col6\" class=\"data row40 col6\" >500.00</td>\n",
              "    </tr>\n",
              "    <tr>\n",
              "      <th id=\"T_4a8ad_level0_row41\" class=\"row_heading level0 row41\" >41</th>\n",
              "      <td id=\"T_4a8ad_row41_col0\" class=\"data row41 col0\" >28414409</td>\n",
              "      <td id=\"T_4a8ad_row41_col1\" class=\"data row41 col1\" >Lovely House in center of Eastwood</td>\n",
              "      <td id=\"T_4a8ad_row41_col2\" class=\"data row41 col2\" >213725582</td>\n",
              "      <td id=\"T_4a8ad_row41_col3\" class=\"data row41 col3\" >Shaoyong</td>\n",
              "      <td id=\"T_4a8ad_row41_col4\" class=\"data row41 col4\" >24</td>\n",
              "      <td id=\"T_4a8ad_row41_col5\" class=\"data row41 col5\" >Private room</td>\n",
              "      <td id=\"T_4a8ad_row41_col6\" class=\"data row41 col6\" >180.00</td>\n",
              "    </tr>\n",
              "    <tr>\n",
              "      <th id=\"T_4a8ad_level0_row42\" class=\"row_heading level0 row42\" >42</th>\n",
              "      <td id=\"T_4a8ad_row42_col0\" class=\"data row42 col0\" >644585184959945914</td>\n",
              "      <td id=\"T_4a8ad_row42_col1\" class=\"data row42 col1\" >Silver Beach Penthouse</td>\n",
              "      <td id=\"T_4a8ad_row42_col2\" class=\"data row42 col2\" >440651046</td>\n",
              "      <td id=\"T_4a8ad_row42_col3\" class=\"data row42 col3\" >Victoria</td>\n",
              "      <td id=\"T_4a8ad_row42_col4\" class=\"data row42 col4\" >31</td>\n",
              "      <td id=\"T_4a8ad_row42_col5\" class=\"data row42 col5\" >Entire home/apt</td>\n",
              "      <td id=\"T_4a8ad_row42_col6\" class=\"data row42 col6\" >465.00</td>\n",
              "    </tr>\n",
              "    <tr>\n",
              "      <th id=\"T_4a8ad_level0_row43\" class=\"row_heading level0 row43\" >43</th>\n",
              "      <td id=\"T_4a8ad_row43_col0\" class=\"data row43 col0\" >11596728</td>\n",
              "      <td id=\"T_4a8ad_row43_col1\" class=\"data row43 col1\" >Silverbeach Tourist Park Kurnell</td>\n",
              "      <td id=\"T_4a8ad_row43_col2\" class=\"data row43 col2\" >61355054</td>\n",
              "      <td id=\"T_4a8ad_row43_col3\" class=\"data row43 col3\" >Rebecca</td>\n",
              "      <td id=\"T_4a8ad_row43_col4\" class=\"data row43 col4\" >31</td>\n",
              "      <td id=\"T_4a8ad_row43_col5\" class=\"data row43 col5\" >Entire home/apt</td>\n",
              "      <td id=\"T_4a8ad_row43_col6\" class=\"data row43 col6\" >150.00</td>\n",
              "    </tr>\n",
              "    <tr>\n",
              "      <th id=\"T_4a8ad_level0_row44\" class=\"row_heading level0 row44\" >44</th>\n",
              "      <td id=\"T_4a8ad_row44_col0\" class=\"data row44 col0\" >8476652</td>\n",
              "      <td id=\"T_4a8ad_row44_col1\" class=\"data row44 col1\" >Cozy double room @ King St, Newtown</td>\n",
              "      <td id=\"T_4a8ad_row44_col2\" class=\"data row44 col2\" >38507923</td>\n",
              "      <td id=\"T_4a8ad_row44_col3\" class=\"data row44 col3\" >Austin</td>\n",
              "      <td id=\"T_4a8ad_row44_col4\" class=\"data row44 col4\" >21</td>\n",
              "      <td id=\"T_4a8ad_row44_col5\" class=\"data row44 col5\" >Private room</td>\n",
              "      <td id=\"T_4a8ad_row44_col6\" class=\"data row44 col6\" >60.00</td>\n",
              "    </tr>\n",
              "    <tr>\n",
              "      <th id=\"T_4a8ad_level0_row45\" class=\"row_heading level0 row45\" >45</th>\n",
              "      <td id=\"T_4a8ad_row45_col0\" class=\"data row45 col0\" >22296011</td>\n",
              "      <td id=\"T_4a8ad_row45_col1\" class=\"data row45 col1\" >Large private room on Camperdown park & Newtown</td>\n",
              "      <td id=\"T_4a8ad_row45_col2\" class=\"data row45 col2\" >10873080</td>\n",
              "      <td id=\"T_4a8ad_row45_col3\" class=\"data row45 col3\" >Joshua</td>\n",
              "      <td id=\"T_4a8ad_row45_col4\" class=\"data row45 col4\" >21</td>\n",
              "      <td id=\"T_4a8ad_row45_col5\" class=\"data row45 col5\" >Private room</td>\n",
              "      <td id=\"T_4a8ad_row45_col6\" class=\"data row45 col6\" >40.00</td>\n",
              "    </tr>\n",
              "    <tr>\n",
              "      <th id=\"T_4a8ad_level0_row46\" class=\"row_heading level0 row46\" >46</th>\n",
              "      <td id=\"T_4a8ad_row46_col0\" class=\"data row46 col0\" >669376581695271090</td>\n",
              "      <td id=\"T_4a8ad_row46_col1\" class=\"data row46 col1\" >Spacious 1-bedroom guest house with self check in!</td>\n",
              "      <td id=\"T_4a8ad_row46_col2\" class=\"data row46 col2\" >16803308</td>\n",
              "      <td id=\"T_4a8ad_row46_col3\" class=\"data row46 col3\" >Karen</td>\n",
              "      <td id=\"T_4a8ad_row46_col4\" class=\"data row46 col4\" >11</td>\n",
              "      <td id=\"T_4a8ad_row46_col5\" class=\"data row46 col5\" >Entire home/apt</td>\n",
              "      <td id=\"T_4a8ad_row46_col6\" class=\"data row46 col6\" >78.00</td>\n",
              "    </tr>\n",
              "    <tr>\n",
              "      <th id=\"T_4a8ad_level0_row47\" class=\"row_heading level0 row47\" >47</th>\n",
              "      <td id=\"T_4a8ad_row47_col0\" class=\"data row47 col0\" >22311178</td>\n",
              "      <td id=\"T_4a8ad_row47_col1\" class=\"data row47 col1\" >Cozy, new 2-bedroom with parking</td>\n",
              "      <td id=\"T_4a8ad_row47_col2\" class=\"data row47 col2\" >163113803</td>\n",
              "      <td id=\"T_4a8ad_row47_col3\" class=\"data row47 col3\" >Ken</td>\n",
              "      <td id=\"T_4a8ad_row47_col4\" class=\"data row47 col4\" >11</td>\n",
              "      <td id=\"T_4a8ad_row47_col5\" class=\"data row47 col5\" >Entire home/apt</td>\n",
              "      <td id=\"T_4a8ad_row47_col6\" class=\"data row47 col6\" >124.00</td>\n",
              "    </tr>\n",
              "    <tr>\n",
              "      <th id=\"T_4a8ad_level0_row48\" class=\"row_heading level0 row48\" >48</th>\n",
              "      <td id=\"T_4a8ad_row48_col0\" class=\"data row48 col0\" >41983356</td>\n",
              "      <td id=\"T_4a8ad_row48_col1\" class=\"data row48 col1\" >Duffotel Paddington EXEC 2-Bedroom Apartment</td>\n",
              "      <td id=\"T_4a8ad_row48_col2\" class=\"data row48 col2\" >234423891</td>\n",
              "      <td id=\"T_4a8ad_row48_col3\" class=\"data row48 col3\" >Duffotel</td>\n",
              "      <td id=\"T_4a8ad_row48_col4\" class=\"data row48 col4\" >37</td>\n",
              "      <td id=\"T_4a8ad_row48_col5\" class=\"data row48 col5\" >Entire home/apt</td>\n",
              "      <td id=\"T_4a8ad_row48_col6\" class=\"data row48 col6\" >211.00</td>\n",
              "    </tr>\n",
              "    <tr>\n",
              "      <th id=\"T_4a8ad_level0_row49\" class=\"row_heading level0 row49\" >49</th>\n",
              "      <td id=\"T_4a8ad_row49_col0\" class=\"data row49 col0\" >10111788</td>\n",
              "      <td id=\"T_4a8ad_row49_col1\" class=\"data row49 col1\" >******Paddington Sydney*****</td>\n",
              "      <td id=\"T_4a8ad_row49_col2\" class=\"data row49 col2\" >51892300</td>\n",
              "      <td id=\"T_4a8ad_row49_col3\" class=\"data row49 col3\" >Tom</td>\n",
              "      <td id=\"T_4a8ad_row49_col4\" class=\"data row49 col4\" >37</td>\n",
              "      <td id=\"T_4a8ad_row49_col5\" class=\"data row49 col5\" >Private room</td>\n",
              "      <td id=\"T_4a8ad_row49_col6\" class=\"data row49 col6\" >28613.00</td>\n",
              "    </tr>\n",
              "    <tr>\n",
              "      <th id=\"T_4a8ad_level0_row50\" class=\"row_heading level0 row50\" >50</th>\n",
              "      <td id=\"T_4a8ad_row50_col0\" class=\"data row50 col0\" >658279799851154919</td>\n",
              "      <td id=\"T_4a8ad_row50_col1\" class=\"data row50 col1\" >Lovely bedroom by at the sea.</td>\n",
              "      <td id=\"T_4a8ad_row50_col2\" class=\"data row50 col2\" >3526500</td>\n",
              "      <td id=\"T_4a8ad_row50_col3\" class=\"data row50 col3\" >Maurice</td>\n",
              "      <td id=\"T_4a8ad_row50_col4\" class=\"data row50 col4\" >37</td>\n",
              "      <td id=\"T_4a8ad_row50_col5\" class=\"data row50 col5\" >Private room</td>\n",
              "      <td id=\"T_4a8ad_row50_col6\" class=\"data row50 col6\" >75.00</td>\n",
              "    </tr>\n",
              "    <tr>\n",
              "      <th id=\"T_4a8ad_level0_row51\" class=\"row_heading level0 row51\" >51</th>\n",
              "      <td id=\"T_4a8ad_row51_col0\" class=\"data row51 col0\" >10549608</td>\n",
              "      <td id=\"T_4a8ad_row51_col1\" class=\"data row51 col1\" >Amazing Double Bay Apartment with High Ceilings</td>\n",
              "      <td id=\"T_4a8ad_row51_col2\" class=\"data row51 col2\" >23953750</td>\n",
              "      <td id=\"T_4a8ad_row51_col3\" class=\"data row51 col3\" >Cyrus</td>\n",
              "      <td id=\"T_4a8ad_row51_col4\" class=\"data row51 col4\" >37</td>\n",
              "      <td id=\"T_4a8ad_row51_col5\" class=\"data row51 col5\" >Private room</td>\n",
              "      <td id=\"T_4a8ad_row51_col6\" class=\"data row51 col6\" >200.00</td>\n",
              "    </tr>\n",
              "    <tr>\n",
              "      <th id=\"T_4a8ad_level0_row52\" class=\"row_heading level0 row52\" >52</th>\n",
              "      <td id=\"T_4a8ad_row52_col0\" class=\"data row52 col0\" >2033151</td>\n",
              "      <td id=\"T_4a8ad_row52_col1\" class=\"data row52 col1\" >Beautifully Renovated Paddington Apartment</td>\n",
              "      <td id=\"T_4a8ad_row52_col2\" class=\"data row52 col2\" >5727462</td>\n",
              "      <td id=\"T_4a8ad_row52_col3\" class=\"data row52 col3\" >Julia</td>\n",
              "      <td id=\"T_4a8ad_row52_col4\" class=\"data row52 col4\" >37</td>\n",
              "      <td id=\"T_4a8ad_row52_col5\" class=\"data row52 col5\" >Entire home/apt</td>\n",
              "      <td id=\"T_4a8ad_row52_col6\" class=\"data row52 col6\" >271.00</td>\n",
              "    </tr>\n",
              "    <tr>\n",
              "      <th id=\"T_4a8ad_level0_row53\" class=\"row_heading level0 row53\" >53</th>\n",
              "      <td id=\"T_4a8ad_row53_col0\" class=\"data row53 col0\" >9376988</td>\n",
              "      <td id=\"T_4a8ad_row53_col1\" class=\"data row53 col1\" >Family Beach House🌴</td>\n",
              "      <td id=\"T_4a8ad_row53_col2\" class=\"data row53 col2\" >11196275</td>\n",
              "      <td id=\"T_4a8ad_row53_col3\" class=\"data row53 col3\" >Emma</td>\n",
              "      <td id=\"T_4a8ad_row53_col4\" class=\"data row53 col4\" >26</td>\n",
              "      <td id=\"T_4a8ad_row53_col5\" class=\"data row53 col5\" >Entire home/apt</td>\n",
              "      <td id=\"T_4a8ad_row53_col6\" class=\"data row53 col6\" >2000.00</td>\n",
              "    </tr>\n",
              "    <tr>\n",
              "      <th id=\"T_4a8ad_level0_row54\" class=\"row_heading level0 row54\" >54</th>\n",
              "      <td id=\"T_4a8ad_row54_col0\" class=\"data row54 col0\" >44284905</td>\n",
              "      <td id=\"T_4a8ad_row54_col1\" class=\"data row54 col1\" >BEACHCOMBER NORTH AVALON</td>\n",
              "      <td id=\"T_4a8ad_row54_col2\" class=\"data row54 col2\" >269689583</td>\n",
              "      <td id=\"T_4a8ad_row54_col3\" class=\"data row54 col3\" >Jill</td>\n",
              "      <td id=\"T_4a8ad_row54_col4\" class=\"data row54 col4\" >26</td>\n",
              "      <td id=\"T_4a8ad_row54_col5\" class=\"data row54 col5\" >Entire home/apt</td>\n",
              "      <td id=\"T_4a8ad_row54_col6\" class=\"data row54 col6\" >220.00</td>\n",
              "    </tr>\n",
              "    <tr>\n",
              "      <th id=\"T_4a8ad_level0_row55\" class=\"row_heading level0 row55\" >55</th>\n",
              "      <td id=\"T_4a8ad_row55_col0\" class=\"data row55 col0\" >46159786</td>\n",
              "      <td id=\"T_4a8ad_row55_col1\" class=\"data row55 col1\" >Warriewood Beach House</td>\n",
              "      <td id=\"T_4a8ad_row55_col2\" class=\"data row55 col2\" >136836511</td>\n",
              "      <td id=\"T_4a8ad_row55_col3\" class=\"data row55 col3\" >Fiona</td>\n",
              "      <td id=\"T_4a8ad_row55_col4\" class=\"data row55 col4\" >26</td>\n",
              "      <td id=\"T_4a8ad_row55_col5\" class=\"data row55 col5\" >Entire home/apt</td>\n",
              "      <td id=\"T_4a8ad_row55_col6\" class=\"data row55 col6\" >1000.00</td>\n",
              "    </tr>\n",
              "    <tr>\n",
              "      <th id=\"T_4a8ad_level0_row56\" class=\"row_heading level0 row56\" >56</th>\n",
              "      <td id=\"T_4a8ad_row56_col0\" class=\"data row56 col0\" >37999560</td>\n",
              "      <td id=\"T_4a8ad_row56_col1\" class=\"data row56 col1\" >Relaxing Haberfield home on a large leafy property</td>\n",
              "      <td id=\"T_4a8ad_row56_col2\" class=\"data row56 col2\" >71234146</td>\n",
              "      <td id=\"T_4a8ad_row56_col3\" class=\"data row56 col3\" >Derek</td>\n",
              "      <td id=\"T_4a8ad_row56_col4\" class=\"data row56 col4\" >0</td>\n",
              "      <td id=\"T_4a8ad_row56_col5\" class=\"data row56 col5\" >Entire home/apt</td>\n",
              "      <td id=\"T_4a8ad_row56_col6\" class=\"data row56 col6\" >230.00</td>\n",
              "    </tr>\n",
              "    <tr>\n",
              "      <th id=\"T_4a8ad_level0_row57\" class=\"row_heading level0 row57\" >57</th>\n",
              "      <td id=\"T_4a8ad_row57_col0\" class=\"data row57 col0\" >657313869212267718</td>\n",
              "      <td id=\"T_4a8ad_row57_col1\" class=\"data row57 col1\" >Switch off and recharge in Lower Macdonald</td>\n",
              "      <td id=\"T_4a8ad_row57_col2\" class=\"data row57 col2\" >10438629</td>\n",
              "      <td id=\"T_4a8ad_row57_col3\" class=\"data row57 col3\" >Emma</td>\n",
              "      <td id=\"T_4a8ad_row57_col4\" class=\"data row57 col4\" >33</td>\n",
              "      <td id=\"T_4a8ad_row57_col5\" class=\"data row57 col5\" >Entire home/apt</td>\n",
              "      <td id=\"T_4a8ad_row57_col6\" class=\"data row57 col6\" >229.00</td>\n",
              "    </tr>\n",
              "    <tr>\n",
              "      <th id=\"T_4a8ad_level0_row58\" class=\"row_heading level0 row58\" >58</th>\n",
              "      <td id=\"T_4a8ad_row58_col0\" class=\"data row58 col0\" >28268415</td>\n",
              "      <td id=\"T_4a8ad_row58_col1\" class=\"data row58 col1\" >Amazing private room in Wolli Creek</td>\n",
              "      <td id=\"T_4a8ad_row58_col2\" class=\"data row58 col2\" >42427723</td>\n",
              "      <td id=\"T_4a8ad_row58_col3\" class=\"data row58 col3\" >Maíra</td>\n",
              "      <td id=\"T_4a8ad_row58_col4\" class=\"data row58 col4\" >28</td>\n",
              "      <td id=\"T_4a8ad_row58_col5\" class=\"data row58 col5\" >Private room</td>\n",
              "      <td id=\"T_4a8ad_row58_col6\" class=\"data row58 col6\" >60.00</td>\n",
              "    </tr>\n",
              "    <tr>\n",
              "      <th id=\"T_4a8ad_level0_row59\" class=\"row_heading level0 row59\" >59</th>\n",
              "      <td id=\"T_4a8ad_row59_col0\" class=\"data row59 col0\" >11126443</td>\n",
              "      <td id=\"T_4a8ad_row59_col1\" class=\"data row59 col1\" >Excellent room in nice location</td>\n",
              "      <td id=\"T_4a8ad_row59_col2\" class=\"data row59 col2\" >23796463</td>\n",
              "      <td id=\"T_4a8ad_row59_col3\" class=\"data row59 col3\" >Steven</td>\n",
              "      <td id=\"T_4a8ad_row59_col4\" class=\"data row59 col4\" >23</td>\n",
              "      <td id=\"T_4a8ad_row59_col5\" class=\"data row59 col5\" >Private room</td>\n",
              "      <td id=\"T_4a8ad_row59_col6\" class=\"data row59 col6\" >50.00</td>\n",
              "    </tr>\n",
              "    <tr>\n",
              "      <th id=\"T_4a8ad_level0_row60\" class=\"row_heading level0 row60\" >60</th>\n",
              "      <td id=\"T_4a8ad_row60_col0\" class=\"data row60 col0\" >13629326</td>\n",
              "      <td id=\"T_4a8ad_row60_col1\" class=\"data row60 col1\" >North Appartment near City</td>\n",
              "      <td id=\"T_4a8ad_row60_col2\" class=\"data row60 col2\" >79000479</td>\n",
              "      <td id=\"T_4a8ad_row60_col3\" class=\"data row60 col3\" >Adam</td>\n",
              "      <td id=\"T_4a8ad_row60_col4\" class=\"data row60 col4\" >23</td>\n",
              "      <td id=\"T_4a8ad_row60_col5\" class=\"data row60 col5\" >Entire home/apt</td>\n",
              "      <td id=\"T_4a8ad_row60_col6\" class=\"data row60 col6\" >51.00</td>\n",
              "    </tr>\n",
              "    <tr>\n",
              "      <th id=\"T_4a8ad_level0_row61\" class=\"row_heading level0 row61\" >61</th>\n",
              "      <td id=\"T_4a8ad_row61_col0\" class=\"data row61 col0\" >21999407</td>\n",
              "      <td id=\"T_4a8ad_row61_col1\" class=\"data row61 col1\" >Beautiful, sunny apartment conveniently located</td>\n",
              "      <td id=\"T_4a8ad_row61_col2\" class=\"data row61 col2\" >13931594</td>\n",
              "      <td id=\"T_4a8ad_row61_col3\" class=\"data row61 col3\" >Karen</td>\n",
              "      <td id=\"T_4a8ad_row61_col4\" class=\"data row61 col4\" >23</td>\n",
              "      <td id=\"T_4a8ad_row61_col5\" class=\"data row61 col5\" >Entire home/apt</td>\n",
              "      <td id=\"T_4a8ad_row61_col6\" class=\"data row61 col6\" >250.00</td>\n",
              "    </tr>\n",
              "    <tr>\n",
              "      <th id=\"T_4a8ad_level0_row62\" class=\"row_heading level0 row62\" >62</th>\n",
              "      <td id=\"T_4a8ad_row62_col0\" class=\"data row62 col0\" >40426054</td>\n",
              "      <td id=\"T_4a8ad_row62_col1\" class=\"data row62 col1\" >Christmas rental short term</td>\n",
              "      <td id=\"T_4a8ad_row62_col2\" class=\"data row62 col2\" >78397109</td>\n",
              "      <td id=\"T_4a8ad_row62_col3\" class=\"data row62 col3\" >Brenda</td>\n",
              "      <td id=\"T_4a8ad_row62_col4\" class=\"data row62 col4\" >4</td>\n",
              "      <td id=\"T_4a8ad_row62_col5\" class=\"data row62 col5\" >Private room</td>\n",
              "      <td id=\"T_4a8ad_row62_col6\" class=\"data row62 col6\" >80.00</td>\n",
              "    </tr>\n",
              "  </tbody>\n",
              "</table>\n",
              "</div>"
            ]
          },
          "metadata": {}
        },
        {
          "output_type": "stream",
          "name": "stdout",
          "text": [
            "-------------------\n",
            "Your SQL query is correct!\n"
          ]
        }
      ]
    },
    {
      "cell_type": "markdown",
      "source": [
        "This vertically-scrollable table displays all of the data contained in the listings table. To get a more complete picture of the data, it would be great to also have an idea of how the rest of the tables look. Since we have only shown you the listings table, it is a good idea for you to explore the other three tables as well.\n",
        "\n",
        "\n",
        "## Part 1: Exploring data in other tables\n",
        "\n",
        "Modify each of the following code blocks to show data from the other three tables (just like we did for the listings table).\n",
        "\n"
      ],
      "metadata": {
        "id": "K_ThcCPtaHi5"
      }
    },
    {
      "cell_type": "code",
      "source": [
        "### Question: q1_1_2a\n",
        "# Instructions: Fetch data from the entire neighbourhoods table\n",
        "\n",
        "# TO BE COMPLETED\n",
        "query = \"\"\"\n",
        "SELECT ??? neighbourhoods\n",
        "\"\"\"\n",
        "\n",
        "run(query)\n",
        "check(q1_1_2a = query)"
      ],
      "metadata": {
        "id": "Z23ipVs8TLqL"
      },
      "execution_count": null,
      "outputs": []
    },
    {
      "cell_type": "code",
      "source": [
        "### Question: q1_1_2b\n",
        "# Instructions: Fetch data from the entire reviews table\n",
        "\n",
        "# TO BE COMPLETED\n",
        "query = \"\"\"\n",
        "SELECT ??? reviews\n",
        "\"\"\"\n",
        "\n",
        "run(query)\n",
        "check(q1_1_2b = query)"
      ],
      "metadata": {
        "id": "63mB7QCOTOEF"
      },
      "execution_count": null,
      "outputs": []
    },
    {
      "cell_type": "code",
      "source": [
        "### Question: q1_1_2c\n",
        "# Instructions: Fetch data from the entire calendar table\n",
        "\n",
        "# TO BE COMPLETED\n",
        "query = \"\"\"\n",
        "SELECT ??? calendar\n",
        "\"\"\"\n",
        "\n",
        "run(query)\n",
        "check(q1_1_2c = query)"
      ],
      "metadata": {
        "id": "aIpANzaFTRjm"
      },
      "execution_count": null,
      "outputs": []
    },
    {
      "cell_type": "markdown",
      "source": [
        "## Crunchin' Code\n",
        "\n",
        "Now that you're getting a feel for the data, it's time to buckle up and write some SQL! \n",
        "\n",
        "As we discussed in this week's materials, SQL will help you answer questions about the Airbnb data quickly and at scale! Let's dive a bit deeper into our current example with you, once again, as the General manager for the newly-opened Airbnb Sydney.\n",
        "\n",
        "_______\n",
        "\n",
        "## Part 2: Printing list of host_id to host\n",
        "\n",
        "Currently, the administrative system at our Airbnb Sydney office shows the host_id when the host calls our helpdesk. But this is very impersonal, and not ideal to answer the phone, “hello host_id 12345!” Due to company policy, helpdesk operators do not have access to the full database, and we also don’t have a system yet in place to offer only partial access. Still, we are determined to leave a good impression on everyone who calls us by knowing their name! One idea is to provide everyone access to a database print-out of the host_id with the host name. **Can you help us write this query to return this list?** \n"
      ],
      "metadata": {
        "id": "FCWFnB7BCeaC"
      }
    },
    {
      "cell_type": "code",
      "source": [
        "### Question: q1_2_1\n",
        "# Instructions: Fetch host_id and host from the listings table\n",
        "\n",
        "# TO BE COMPLETED\n",
        "query = \"\"\"\n",
        "SELECT ???\n",
        "\"\"\"\n",
        "\n",
        "run(query)\n",
        "check(q1_2_1 = query)"
      ],
      "metadata": {
        "id": "M2d85TccTV63"
      },
      "execution_count": null,
      "outputs": []
    },
    {
      "cell_type": "markdown",
      "source": [
        "Well that’s pretty useful, but not that useful! How would a helpdesk operator find a host quickly when the list is not ordered? **Let's fix the ordering by adapting the query to make it order descendingly on host_id.**\n"
      ],
      "metadata": {
        "id": "1q-on41FGv8p"
      }
    },
    {
      "cell_type": "code",
      "source": [
        "### Question: q1_2_2\n",
        "# Instructions: \n",
        "# 1/ Fetch host_id and host from the listings table\n",
        "# 2/ Make sure the output is sorted by host_id in descending order\n",
        "\n",
        "# TO BE COMPLETED\n",
        "query = \"\"\"\n",
        "SELECT ???\n",
        "\"\"\"\n",
        "\n",
        "run(query)\n",
        "check(q1_2_2 = query)"
      ],
      "metadata": {
        "id": "cz5aQEBwTovf"
      },
      "execution_count": null,
      "outputs": []
    },
    {
      "cell_type": "markdown",
      "source": [
        "---\n",
        "\n",
        "## Part 3: Additional filters on the printed output\n",
        "\n",
        "Unfortunately, asking employees to look at the printout of this list isn't going to be a scalable solution especially as we continually add new neighbourhoods. As a temporary solution, let's assign one neighbourhood to each of our employees so they have a smaller printout of listings to keep track of. \n",
        "\n",
        "**How would you adapt the query to be sorted by *host_id*, to to display the host_id and the host, and to be restricted to the neighbourhood_id of a particular neighbourhood, let's say number 35?**\n"
      ],
      "metadata": {
        "id": "J_MdpkDpHIzX"
      }
    },
    {
      "cell_type": "code",
      "source": [
        "### Question: q1_2_3\n",
        "# Instructions: \n",
        "# 1/ Fetch only host_id, host from the listings table\n",
        "# 2/ Make sure you filtered the data to just neighbourhood_id=35\n",
        "# 3/ Make sure the output is sorted by host_id in descending order\n",
        "\n",
        "# TO BE COMPLETED\n",
        "query = \"\"\"\n",
        "SELECT ???\n",
        "\"\"\"\n",
        "\n",
        "run(query)\n",
        "check(q1_2_3 = query)"
      ],
      "metadata": {
        "id": "KfKlwOHaTx32"
      },
      "execution_count": null,
      "outputs": []
    },
    {
      "cell_type": "markdown",
      "source": [
        "Hmmm... our business is growing day by. The number of people that we have currently employed has increased by a staggering 120%. So, in the future, there is potential to split up our list even further and divide it among many more employees who can be on-call. Our best option for now is splitting the list on the number of the neighbourhood AND room_type. **Find all the listings where we set our neighbourhood_id to 27 and \"Private room\".**\n"
      ],
      "metadata": {
        "id": "dwrNr-xlH8QH"
      }
    },
    {
      "cell_type": "code",
      "source": [
        "### Question: q1_2_4\n",
        "# Instructions: \n",
        "# 1/ Fetch host_id, host from the listings table\n",
        "# 2/ Make sure you filtered the data to just neighbourhood_id=27 and room_type='Private room'\n",
        "# 3/ Make sure the output is sorted by host_id in descending order\n",
        "\n",
        "# TO BE COMPLETED\n",
        "query = \"\"\"\n",
        "SELECT ???\n",
        "\"\"\"\n",
        "\n",
        "run(query)\n",
        "check(q1_2_4 = query)"
      ],
      "metadata": {
        "id": "RVDBFQkzT9gO"
      },
      "execution_count": null,
      "outputs": []
    },
    {
      "cell_type": "markdown",
      "source": [
        "It was super helpful to have SQL skills to print out our user lists... BUT the future is digital. So let's now focus on a new type of scenario.\n",
        "\n",
        "---\n",
        "\n",
        "## Part 4: Maggie's question?\n",
        "\n",
        "You're doing a shift of answering phones, and a host calls with an important question. Her name is Maggie, and she is known to us by the *listing_id* of 7581665. \n",
        "\n",
        "She is curious whether the changes she made to the calendar on the website are reflected in our system. Maggie generally charges 300 dollars per night. She has noticed however, that can charge a little bit more on Friday and Saturday nights. She updated the price to 350 dollars for Friday, September 9th 2022 and Saturday, September 10th in 2022. She wants to double check that change went through and if that corresponds with our database.\n",
        "\n",
        "**Please help confirm this for Maggie by writing a query for the calendar table, to provide us with all of the calendar listings between the date of 2022-09-09 and 2022-09-11.**\n"
      ],
      "metadata": {
        "id": "OFU6zHmROOV8"
      }
    },
    {
      "cell_type": "code",
      "source": [
        "### Question: q1_2_5\n",
        "# Instructions: \n",
        "# 1/ Fetch all columns from the calendar table\n",
        "# 2/ Make sure you filtered the data to dates between 2022-09-09 and 2022-09-11\n",
        "\n",
        "# TO BE COMPLETED\n",
        "query = \"\"\"\n",
        "SELECT * FROM calendar ??? \n",
        "\"\"\"\n",
        "\n",
        "run(query)\n",
        "check(q1_2_5 = query)"
      ],
      "metadata": {
        "id": "Kw3tRQ1JUG95"
      },
      "execution_count": null,
      "outputs": []
    },
    {
      "cell_type": "markdown",
      "source": [
        "Now, let's add another condition to the query of the previous step. Let's filter on listing_id 7581665.  \n"
      ],
      "metadata": {
        "id": "kHAqugAKC_O4"
      }
    },
    {
      "cell_type": "code",
      "source": [
        "### Question: q1_2_6\n",
        "# Instructions: \n",
        "# 1/ Fetch all columns from the calendar table\n",
        "# 2/ Make sure you filtered the data to dates between 2022-09-09 and 2022-09-11\n",
        "# 3/ Make sure you filtered the data to listing_id=7581665\n",
        "\n",
        "# TO BE COMPLETED\n",
        "query = \"\"\"\n",
        "SELECT ???\n",
        "\"\"\"\n",
        "\n",
        "run(query)\n",
        "check(q1_2_6 = query)"
      ],
      "metadata": {
        "id": "Swj0irY9Um_T"
      },
      "execution_count": null,
      "outputs": []
    },
    {
      "cell_type": "markdown",
      "source": [
        "----\n",
        "\n",
        "## Part 5: Helping out Rick\n",
        "\n",
        "You just got off a call with a dissatisfied host who has a  *listing_id* of *657377039990074158*. His name is Rick, and he was angry that no customers seemed to book his listing for the coming week (or past weeks for that matter). He wants us to promote his listing on our website more prominently, otherwise he might stop being our customer. We believe there might be some other issues at hand. Could you investigate and share us some of your findings as to why nobody is booking Rick's listing? We suggest you look at the **calendar**, **reviews**, and **listings**. Please report any findings you deem relevant. \n",
        "\n",
        "*TIP: We estimate you need to make around three queries. If you need more (or less) that is also okay! Just make sure to take into account the listing_id for each query that you write.*"
      ],
      "metadata": {
        "id": "OTCHgKw0SXMm"
      }
    },
    {
      "cell_type": "code",
      "source": [
        "### Question: q1_2_7a\n",
        "# Instructions: \n",
        "# 1/ Fetch all columns from the calendar table\n",
        "# 2/ Make sure you filtered the data to listing_id=657377039990074158\n",
        "\n",
        "# TO BE COMPLETED\n",
        "query = \"\"\"\n",
        "SELECT ???\n",
        "\"\"\"\n",
        "\n",
        "run(query)\n",
        "check(q1_2_7a = query)"
      ],
      "metadata": {
        "id": "lC1VoSV-Uwb6"
      },
      "execution_count": null,
      "outputs": []
    },
    {
      "cell_type": "markdown",
      "source": [
        "Looks like the apartment isn't available on any day - bummer. Let's flag this to Rick."
      ],
      "metadata": {
        "id": "z_AkmvVDwwkY"
      }
    },
    {
      "cell_type": "code",
      "source": [
        "### Question: q1_2_7b\n",
        "# Instructions: \n",
        "# 1/ Fetch all columns from the reviews table\n",
        "# 2/ Make sure you filtered the data to listing_id=657377039990074158\n",
        "\n",
        "# TO BE COMPLETED\n",
        "query = \"\"\"\n",
        "SELECT ???\n",
        "\"\"\"\n",
        "\n",
        "run(query)\n",
        "check(q1_2_7b = query)"
      ],
      "metadata": {
        "id": "aAeYHhtgU6va"
      },
      "execution_count": null,
      "outputs": []
    },
    {
      "cell_type": "markdown",
      "source": [
        "It doesn't seem to have any past reviews either 😮 Maybe we need to help Rick get some testimonials. \n"
      ],
      "metadata": {
        "id": "n8Wq6HSRw3--"
      }
    },
    {
      "cell_type": "code",
      "source": [
        "### Question: q1_2_7c\n",
        "# Instructions: \n",
        "# 1/ Fetch all columns from the listings table\n",
        "# 2/ Make sure you filtered the data to listing_id=657377039990074158\n",
        "\n",
        "# TO BE COMPLETED\n",
        "query = \"\"\"\n",
        "SELECT ???\n",
        "\"\"\"\n",
        "\n",
        "run(query)\n",
        "check(q1_2_7c = query)"
      ],
      "metadata": {
        "id": "C7AFzZcaU7RS"
      },
      "execution_count": null,
      "outputs": []
    },
    {
      "cell_type": "markdown",
      "source": [
        "The contributing factors we found are: the price of his apartment is a bit steep compared to others, it has no reviews, and it is not available for booking on any of the given days this week. "
      ],
      "metadata": {
        "id": "a6PdvIBbT6OD"
      }
    },
    {
      "cell_type": "markdown",
      "source": [
        "## (Extra Credit) Part 6: Beat the competition!\n",
        "\n",
        "A host calls in and is wondering how to price her listing. She wants to price her listing at least \\$400 since it’s a really nice space. She’s concerned she’ll be too expensive for Airbnb Sydney, and considering a competitor VRBO. Oh no! It’s your job as GM to get her on Airbnb.\n",
        "First, let’s write a query to show how many listings are greater than or equal to \\$400. You are pretty sure there are some listings at her price range."
      ],
      "metadata": {
        "id": "zc5OIelYez0O"
      }
    },
    {
      "cell_type": "code",
      "source": [
        "### Question: q1_2_10a\n",
        "# Instructions: \n",
        "# 1/ Fetch all columns from the listings table\n",
        "# 2/ Make sure you filter listings, having a price greater than or equal to 400 dollars\n",
        "# 3/ Make sure you order the list by price_in_dollar ascendingly\n",
        "\n",
        "# TO BE COMPLETED\n",
        "query = \"\"\"\n",
        "SELECT ???\n",
        "\"\"\"\n",
        "\n",
        "run(query)\n",
        "check(q1_2_10a = query)"
      ],
      "metadata": {
        "id": "pq4MPu4DezFp"
      },
      "execution_count": null,
      "outputs": []
    },
    {
      "cell_type": "markdown",
      "source": [
        "Now, we want to send her a list of listings to check out greater than or equal to \\$400, but just Entire home/apt in neighborhood’s 20 and 26 (near where she lives)."
      ],
      "metadata": {
        "id": "lYK0QXmPfTWM"
      }
    },
    {
      "cell_type": "code",
      "source": [
        "### Question: q1_2_10b\n",
        "# Instructions: \n",
        "# 1/ Fetch all columns from the listings table\n",
        "# 2/ Make sure you filter listings, having a price greater than or equal to than 400 dollars\n",
        "# 3/ Make sure you filter listings also on having neighbourhood id 20 or 26\n",
        "# 4/ Make sure you order the list by price_in_dollar ascendingly\n",
        "\n",
        "# TO BE COMPLETED\n",
        "query = \"\"\"\n",
        "SELECT ???\n",
        "\"\"\"\n",
        "\n",
        "run(query)\n",
        "check(q1_2_10b = query)"
      ],
      "metadata": {
        "id": "y3SVJVjJftAA"
      },
      "execution_count": null,
      "outputs": []
    },
    {
      "cell_type": "markdown",
      "source": [
        "Great, there should be a couple in those neighbourhoods! She wants to read the reviews of all these listings if possible. Can you write a query to from reviews table that returns the listings for all of these places? Anything to learn? Maybe having a pool is important :)"
      ],
      "metadata": {
        "id": "gq8tclQXfTT6"
      }
    },
    {
      "cell_type": "code",
      "source": [
        "### Question: q1_2_10c\n",
        "# Instructions: \n",
        "# 1/ Fetch all columns from the reviews table\n",
        "# 2/ Make sure you filter reviews based on listing ids: 21443493, 10729688, 9012529, 46159786, and 9376988\n",
        "# 3/ Make sure you order the list by listing_id ascendingly\n",
        "\n",
        "# TO BE COMPLETED\n",
        "query = \"\"\"\n",
        "SELECT ???\n",
        "\"\"\"\n",
        "\n",
        "run(query)\n",
        "check(q1_2_10c = query)"
      ],
      "metadata": {
        "id": "wDgFhG5_gCbo"
      },
      "execution_count": null,
      "outputs": []
    },
    {
      "cell_type": "markdown",
      "source": [
        "----\n",
        "\n",
        "## (Extra Credit) Part 7: Money talks\n",
        "\n",
        "Analysis reveals there to be a big difference in prices per listing (up to 500x). This is to be expected since some areas are closer to points of interests and offer more luxury. \n",
        "\n",
        "More expensive areas can net us higher sales since our cut/fee is a percentage of the price of the listing. However, cheaper areas potentially are more likely to be booked. \n",
        "\n",
        "So for now we are interested in those areas to analyze their avaiblility and their potential differences. \n",
        "\n",
        "Let's first start with the cheapest neighbourhoods. The top three cheapest are neighbourhood ids number 21, 28 and 4. Can you retrieve all the listings from these neighbourhoods?"
      ],
      "metadata": {
        "id": "7eitfWnG7nov"
      }
    },
    {
      "cell_type": "code",
      "source": [
        "### Question: q1_2_8a\n",
        "# Instructions: \n",
        "# 1/ Fetch all columns from the listings table\n",
        "# 2/ Make sure you filter the data using WHERE-IN\n",
        "\n",
        "# TO BE COMPLETED\n",
        "query = \"\"\"\n",
        "SELECT ???\n",
        "\"\"\"\n",
        "\n",
        "run(query)\n",
        "check(q1_2_8a = query)"
      ],
      "metadata": {
        "id": "CAxNk2C9ACdv"
      },
      "execution_count": null,
      "outputs": []
    },
    {
      "cell_type": "markdown",
      "source": [
        "The prices of these four listings range between 40 to 80 dollar. What about the most expensive neighbourhoods with id 1, 26 and 37? These listings are expected to be more and a lot more expensive listings so please order the list by price_in_dollar."
      ],
      "metadata": {
        "id": "euD8AIZBAioq"
      }
    },
    {
      "cell_type": "code",
      "source": [
        "### Question: q1_2_8b\n",
        "# Instructions: \n",
        "# 1/ Fetch all columns from the listings table\n",
        "# 2/ Make sure you filter the data using WHERE-IN\n",
        "# 3/ Make sure you order the list by price_in_dollar ascendingly\n",
        "\n",
        "# TO BE COMPLETED\n",
        "query = \"\"\"\n",
        "SELECT ???\n",
        "\"\"\"\n",
        "\n",
        "run(query)\n",
        "check(q1_2_8b = query)"
      ],
      "metadata": {
        "id": "siMPdjCbA2hH"
      },
      "execution_count": null,
      "outputs": []
    },
    {
      "cell_type": "markdown",
      "source": [
        "Here it's revealed that we have 9 listings, with a varied amount of prices. \n",
        "\n",
        "Now, let's start comparing the calendar from the cheapest against the most expensive, which is available the most. The cheapest are listing_id: 22296011, 8476652, 28268415, and 40426054"
      ],
      "metadata": {
        "id": "7nWk_BMBMJTR"
      }
    },
    {
      "cell_type": "code",
      "source": [
        "### Question: q1_2_9a\n",
        "# Instructions: \n",
        "# 1/ Fetch all columns from the calendar table\n",
        "# 2/ Make sure you filter the data using WHERE-IN\n",
        "\n",
        "# TO BE COMPLETED\n",
        "query = \"\"\"\n",
        "SELECT ???\n",
        "\"\"\"\n",
        "\n",
        "run(query)\n",
        "check(q1_2_9a = query)"
      ],
      "metadata": {
        "id": "xkvRaabvAjsJ"
      },
      "execution_count": null,
      "outputs": []
    },
    {
      "cell_type": "markdown",
      "source": [
        "Now also let's do that for the listings from the most expensive neighbourhoods. These have the listing_id: 658279799851154919, 10549608, 41983356, 44284905, 2033151, 34027782, 46159786, 9376988, and 10111788"
      ],
      "metadata": {
        "id": "-1C_awoqkuhb"
      }
    },
    {
      "cell_type": "code",
      "source": [
        "### Question: q1_2_9b\n",
        "# Instructions: \n",
        "# 1/ Fetch all columns from the calendar table\n",
        "# 2/ Make sure you filter the data using WHERE-IN\n",
        "\n",
        "# TO BE COMPLETED\n",
        "query = \"\"\"\n",
        "SELECT ???\n",
        "\"\"\"\n",
        "\n",
        "run(query)\n",
        "check(q1_2_9b = query)"
      ],
      "metadata": {
        "id": "D94s-9xgkvE6"
      },
      "execution_count": null,
      "outputs": []
    },
    {
      "cell_type": "markdown",
      "source": [
        "If you count all the entries by hand we find that for the least expensive neighbourhouds we have 26 days registered, of which none are available for renting, which means for the coming week we have 0% availability in the cheap neighbourhoods. However, the most expensive neighbourhoods have 62 days registered of which the coming week 4 days are available for renting, which means around 6% availability for next week. \n",
        "\n",
        "On a larger scale these differences in availability of listings and thus revenue stream generated per listing are important. These data points might guide your focus as a General manager at Sydney Airbnb or pretty much any company which tries to make data-driven decisions.\n",
        "\n"
      ],
      "metadata": {
        "id": "pJqOQQBikv2G"
      }
    },
    {
      "cell_type": "markdown",
      "source": [
        "---\n",
        "\n",
        "# 🎉 CONGRATULATIONS\n",
        "\n",
        "You've made it to the end of the week 1 assignment! You should be proud. \n",
        "\n",
        "If you have any lingering questions, post them on Slack! As you know, we're always here to help.\n",
        "\n",
        "And, if you want any additional challenge questions, check out the bonus extensions below.\n",
        "\n",
        "---\n",
        "\n",
        "### Bonus: Extensions\n",
        "- You've heard feedback that one of the hosts is charging an exorbitant amount (5 digits) on one weekend. Can you look into the calendar table and find the listing id and the host information? Remember you have the powers of sort and limit \n",
        "- Explore the data more and come up with other questions that you could answer using SQL from the data we have!"
      ],
      "metadata": {
        "id": "oenMClwuUUqT"
      }
    }
  ]
}